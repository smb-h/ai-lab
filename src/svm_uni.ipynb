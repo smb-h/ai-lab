{
 "cells": [
  {
   "cell_type": "code",
   "execution_count": 55,
   "metadata": {},
   "outputs": [],
   "source": [
    "import numpy as np\n",
    "import matplotlib.pyplot as plt\n",
    "from sklearn import svm\n",
    "from sklearn.datasets import make_blobs\n",
    "from sklearn.metrics import confusion_matrix, accuracy_score\n",
    "from sklearn.model_selection import train_test_split"
   ]
  },
  {
   "cell_type": "code",
   "execution_count": 56,
   "metadata": {},
   "outputs": [],
   "source": [
    "x, y = make_blobs(\n",
    "    n_samples=133, centers=2, n_features=2, random_state=0, cluster_std=0.7\n",
    ")\n",
    "x_train, x_test, y_train, y_test = train_test_split(x, y, test_size=0.2, random_state=0)"
   ]
  },
  {
   "cell_type": "code",
   "execution_count": 57,
   "metadata": {},
   "outputs": [
    {
     "data": {
      "image/png": "[encoded data removed]",
      "text/plain": [
       "<Figure size 432x288 with 1 Axes>"
      ]
     },
     "metadata": {
      "needs_background": "light"
     },
     "output_type": "display_data"
    }
   ],
   "source": [
    "plt.scatter(\n",
    "    x_train[y_train == 0, 0], x_train[y_train == 0, 1], c=\"r\", marker=\"+\", label=\"0\"\n",
    ")\n",
    "plt.scatter(\n",
    "    x_train[y_train == 1, 0], x_train[y_train == 1, 1], c=\"g\", marker=\"+\", label=\"1\"\n",
    ")\n",
    "plt.legend(\"Train data: class 0, Train data: class 1\")\n",
    "plt.show()"
   ]
  },
  {
   "cell_type": "code",
   "execution_count": 58,
   "metadata": {},
   "outputs": [
    {
     "name": "stdout",
     "output_type": "stream",
     "text": [
      "Accuracy:  1.0\n",
      "Confusion matrix: \n",
      " [[12  0]\n",
      " [ 0 15]]\n"
     ]
    }
   ],
   "source": [
    "reg_param = 1\n",
    "# svc = svm.SVC(kernel='linear', C=reg_param)\n",
    "# svc = svm.SVC(kernel='rbf', C=reg_param, gamma=.7)\n",
    "svc = svm.SVC(kernel=\"poly\", C=reg_param, degree=5)\n",
    "\n",
    "svc.fit(x_train, y_train)\n",
    "predict = svc.predict(x_test)\n",
    "print(\"Accuracy: \", accuracy_score(y_test, predict))\n",
    "print(\"Confusion matrix: \\n\", confusion_matrix(y_test, predict))"
   ]
  },
  {
   "cell_type": "code",
   "execution_count": 59,
   "metadata": {},
   "outputs": [
    {
     "name": "stderr",
     "output_type": "stream",
     "text": [
      "/tmp/ipykernel_12213/2031195699.py:24: UserWarning: The following kwargs were not used by contour: 'camp'\n",
      "  plt.contour(X, Y, Z, camp=plt.cm.coolwarm, alpha=.3)\n"
     ]
    },
    {
     "data": {
      "image/png": "[encoded data removed]",
      "text/plain": [
       "<Figure size 432x288 with 1 Axes>"
      ]
     },
     "metadata": {
      "needs_background": "light"
     },
     "output_type": "display_data"
    }
   ],
   "source": [
    "plt.scatter(\n",
    "    x_train[y_train == 0, 0], x_train[y_train == 0, 1], c=\"r\", marker=\"+\", label=\"0\"\n",
    ")\n",
    "plt.scatter(\n",
    "    x_train[y_train == 1, 0], x_train[y_train == 1, 1], c=\"g\", marker=\"+\", label=\"1\"\n",
    ")\n",
    "\n",
    "plt.scatter(\n",
    "    x_test[y_test == 0, 0], x_test[y_test == 0, 1], c=\"k\", marker=\"*\", label=\"0\"\n",
    ")\n",
    "plt.scatter(\n",
    "    x_test[y_test == 1, 0], x_test[y_test == 1, 1], c=\"b\", marker=\"*\", label=\"1\"\n",
    ")\n",
    "\n",
    "support_vectors = svc.support_vectors_\n",
    "plt.scatter(\n",
    "    support_vectors[:, 0],\n",
    "    support_vectors[:, 1],\n",
    "    c=\"y\",\n",
    "    marker=\"o\",\n",
    "    label=\"Support vectors\",\n",
    ")\n",
    "\n",
    "ax = plt.gca()\n",
    "xlim = ax.get_xlim()\n",
    "ylim = ax.get_ylim()\n",
    "\n",
    "# w = svc.coef_[0]\n",
    "# X = np.linspace(xlim[0], xlim[1])\n",
    "# Y = -w[0] / w[1] * X - (svc.intercept_[0] / w[1])\n",
    "# plt.plot(X, Y, lw=3)\n",
    "\n",
    "\n",
    "X, Y = np.meshgrid(\n",
    "    np.linspace(xlim[0], xlim[1], 100), np.linspace(ylim[0], ylim[1], 100)\n",
    ")\n",
    "plt_data = np.transpose([X.ravel(), Y.ravel()])\n",
    "Z = svc.predict(plt_data)\n",
    "Z = Z.reshape(X.shape)\n",
    "plt.contour(X, Y, Z, camp=plt.cm.coolwarm, alpha=0.3)\n",
    "\n",
    "plt.legend(\n",
    "    \"Train data: class 0, Train data: class 1, Test data: class 0, Test data: class 1, Support vectors\"\n",
    ")\n",
    "plt.show()"
   ]
  }
 ],
 "metadata": {
  "interpreter": {
   "hash": "ea695249be8fc7b3de8f0f2969285e7ca88f959b482f74707aac0112d09de4f5"
  },
  "kernelspec": {
   "display_name": "Python 3.9.7 64-bit ('lab': virtualenv)",
   "language": "python",
   "name": "python3"
  },
  "language_info": {
   "codemirror_mode": {
    "name": "ipython",
    "version": 3
   },
   "file_extension": ".py",
   "mimetype": "text/x-python",
   "name": "python",
   "nbconvert_exporter": "python",
   "pygments_lexer": "ipython3",
   "version": "3.9.7"
  },
  "orig_nbformat": 4
 },
 "nbformat": 4,
 "nbformat_minor": 2
}
