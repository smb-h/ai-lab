{
 "cells": [
  {
   "cell_type": "code",
   "execution_count": 6,
   "metadata": {},
   "outputs": [],
   "source": [
    "import numpy as np\n",
    "import matplotlib.pyplot as plt\n",
    "from sklearn import svm\n",
    "from sklearn.datasets import make_blobs\n",
    "from sklearn.metrics import confusion_matrix, accuracy_score\n",
    "from sklearn.model_selection import train_test_split"
   ]
  },
  {
   "cell_type": "code",
   "execution_count": 3,
   "metadata": {},
   "outputs": [],
   "source": [
    "x, y = make_blobs(n_samples=133, centers=2, n_features=2, random_state=0, cluster_std=.7)\n",
    "x_train, x_test, y_train, y_test = train_test_split(x, y, test_size=.2, random_state=0)"
   ]
  },
  {
   "cell_type": "code",
   "execution_count": 5,
   "metadata": {},
   "outputs": [
    {
     "name": "stderr",
     "output_type": "stream",
     "text": [
      "/tmp/ipykernel_12213/1732685277.py:3: UserWarning: Legend does not support 'T' instances.\n",
      "A proxy artist may be used instead.\n",
      "See: https://matplotlib.org/users/legend_guide.html#creating-artists-specifically-for-adding-to-the-legend-aka-proxy-artists\n",
      "  plt.legend('Train data: class 0', 'Train data: class 1')\n",
      "/tmp/ipykernel_12213/1732685277.py:3: UserWarning: Legend does not support 'r' instances.\n",
      "A proxy artist may be used instead.\n",
      "See: https://matplotlib.org/users/legend_guide.html#creating-artists-specifically-for-adding-to-the-legend-aka-proxy-artists\n",
      "  plt.legend('Train data: class 0', 'Train data: class 1')\n",
      "/tmp/ipykernel_12213/1732685277.py:3: UserWarning: Legend does not support 'a' instances.\n",
      "A proxy artist may be used instead.\n",
      "See: https://matplotlib.org/users/legend_guide.html#creating-artists-specifically-for-adding-to-the-legend-aka-proxy-artists\n",
      "  plt.legend('Train data: class 0', 'Train data: class 1')\n",
      "/tmp/ipykernel_12213/1732685277.py:3: UserWarning: Legend does not support 'i' instances.\n",
      "A proxy artist may be used instead.\n",
      "See: https://matplotlib.org/users/legend_guide.html#creating-artists-specifically-for-adding-to-the-legend-aka-proxy-artists\n",
      "  plt.legend('Train data: class 0', 'Train data: class 1')\n",
      "/tmp/ipykernel_12213/1732685277.py:3: UserWarning: Legend does not support 'n' instances.\n",
      "A proxy artist may be used instead.\n",
      "See: https://matplotlib.org/users/legend_guide.html#creating-artists-specifically-for-adding-to-the-legend-aka-proxy-artists\n",
      "  plt.legend('Train data: class 0', 'Train data: class 1')\n",
      "/tmp/ipykernel_12213/1732685277.py:3: UserWarning: Legend does not support ' ' instances.\n",
      "A proxy artist may be used instead.\n",
      "See: https://matplotlib.org/users/legend_guide.html#creating-artists-specifically-for-adding-to-the-legend-aka-proxy-artists\n",
      "  plt.legend('Train data: class 0', 'Train data: class 1')\n",
      "/tmp/ipykernel_12213/1732685277.py:3: UserWarning: Legend does not support 'd' instances.\n",
      "A proxy artist may be used instead.\n",
      "See: https://matplotlib.org/users/legend_guide.html#creating-artists-specifically-for-adding-to-the-legend-aka-proxy-artists\n",
      "  plt.legend('Train data: class 0', 'Train data: class 1')\n",
      "/tmp/ipykernel_12213/1732685277.py:3: UserWarning: Legend does not support 't' instances.\n",
      "A proxy artist may be used instead.\n",
      "See: https://matplotlib.org/users/legend_guide.html#creating-artists-specifically-for-adding-to-the-legend-aka-proxy-artists\n",
      "  plt.legend('Train data: class 0', 'Train data: class 1')\n",
      "/tmp/ipykernel_12213/1732685277.py:3: UserWarning: Legend does not support ':' instances.\n",
      "A proxy artist may be used instead.\n",
      "See: https://matplotlib.org/users/legend_guide.html#creating-artists-specifically-for-adding-to-the-legend-aka-proxy-artists\n",
      "  plt.legend('Train data: class 0', 'Train data: class 1')\n",
      "/tmp/ipykernel_12213/1732685277.py:3: UserWarning: Legend does not support 'c' instances.\n",
      "A proxy artist may be used instead.\n",
      "See: https://matplotlib.org/users/legend_guide.html#creating-artists-specifically-for-adding-to-the-legend-aka-proxy-artists\n",
      "  plt.legend('Train data: class 0', 'Train data: class 1')\n",
      "/tmp/ipykernel_12213/1732685277.py:3: UserWarning: Legend does not support 'l' instances.\n",
      "A proxy artist may be used instead.\n",
      "See: https://matplotlib.org/users/legend_guide.html#creating-artists-specifically-for-adding-to-the-legend-aka-proxy-artists\n",
      "  plt.legend('Train data: class 0', 'Train data: class 1')\n",
      "/tmp/ipykernel_12213/1732685277.py:3: UserWarning: Legend does not support 's' instances.\n",
      "A proxy artist may be used instead.\n",
      "See: https://matplotlib.org/users/legend_guide.html#creating-artists-specifically-for-adding-to-the-legend-aka-proxy-artists\n",
      "  plt.legend('Train data: class 0', 'Train data: class 1')\n",
      "/tmp/ipykernel_12213/1732685277.py:3: UserWarning: Legend does not support '0' instances.\n",
      "A proxy artist may be used instead.\n",
      "See: https://matplotlib.org/users/legend_guide.html#creating-artists-specifically-for-adding-to-the-legend-aka-proxy-artists\n",
      "  plt.legend('Train data: class 0', 'Train data: class 1')\n"
     ]
    },
    {
     "data": {
      "image/png": "[encoded data removed]",
      "text/plain": [
       "<Figure size 432x288 with 1 Axes>"
      ]
     },
     "metadata": {
      "needs_background": "light"
     },
     "output_type": "display_data"
    }
   ],
   "source": [
    "plt.scatter(x_train[y_train == 0, 0], x_train[y_train == 0, 1], c='r', marker='+', label='0')\n",
    "plt.scatter(x_train[y_train == 1, 0], x_train[y_train == 1, 1], c='g', marker='o', label='1')\n",
    "plt.legend('Train data: class 0', 'Train data: class 1')\n",
    "plt.show()"
   ]
  },
  {
   "cell_type": "code",
   "execution_count": 8,
   "metadata": {},
   "outputs": [
    {
     "name": "stdout",
     "output_type": "stream",
     "text": [
      "Accuracy:  1.0\n",
      "Confusion matrix: \n",
      " [[12  0]\n",
      " [ 0 15]]\n"
     ]
    }
   ],
   "source": [
    "reg_param = 1\n",
    "svc = svm.SVC(kernel='linear', C=reg_param)\n",
    "\n",
    "svc.fit(x_train, y_train)\n",
    "predict = svc.predict(x_test)\n",
    "print('Accuracy: ', accuracy_score(y_test, predict))\n",
    "print('Confusion matrix: \\n', confusion_matrix(y_test, predict))"
   ]
  }
 ],
 "metadata": {
  "interpreter": {
   "hash": "ea695249be8fc7b3de8f0f2969285e7ca88f959b482f74707aac0112d09de4f5"
  },
  "kernelspec": {
   "display_name": "Python 3.9.7 64-bit ('lab': virtualenv)",
   "language": "python",
   "name": "python3"
  },
  "language_info": {
   "codemirror_mode": {
    "name": "ipython",
    "version": 3
   },
   "file_extension": ".py",
   "mimetype": "text/x-python",
   "name": "python",
   "nbconvert_exporter": "python",
   "pygments_lexer": "ipython3",
   "version": "3.9.7"
  },
  "orig_nbformat": 4
 },
 "nbformat": 4,
 "nbformat_minor": 2
}
